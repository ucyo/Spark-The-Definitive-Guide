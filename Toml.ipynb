{
 "cells": [
  {
   "cell_type": "code",
   "execution_count": 1,
   "id": "00ea2f70-85ae-4e5e-92a5-8180e9d9a29d",
   "metadata": {},
   "outputs": [],
   "source": [
    "from load_toml import Workflow\n",
    "from load_dataset import load_dataset, datasets"
   ]
  },
  {
   "cell_type": "code",
   "execution_count": 2,
   "id": "2d72cc77-c8f6-4847-a448-90af22afcf8c",
   "metadata": {},
   "outputs": [],
   "source": [
    "wf = Workflow()"
   ]
  },
  {
   "cell_type": "code",
   "execution_count": 3,
   "id": "19afa255-67d2-42d0-8a2e-22df54c5fbfd",
   "metadata": {},
   "outputs": [
    {
     "name": "stdout",
     "output_type": "stream",
     "text": [
      "dict_keys(['flight_data', 'retail_data', 'bike_stations', 'bike_trips'])\n"
     ]
    }
   ],
   "source": [
    "print(datasets.keys())\n",
    "data = 'bike_trips'\n",
    "df = load_dataset(data)"
   ]
  },
  {
   "cell_type": "markdown",
   "id": "f22534b5-dbd7-408b-8c2a-d2344d521e67",
   "metadata": {},
   "source": [
    "## Start filtering based on toml file"
   ]
  },
  {
   "cell_type": "code",
   "execution_count": 4,
   "id": "57b44656-e98b-4e52-9e20-a5a261c73f73",
   "metadata": {},
   "outputs": [
    {
     "data": {
      "text/plain": [
       "['Trip ID',\n",
       " 'Duration',\n",
       " 'Start Date',\n",
       " 'Start Station',\n",
       " 'Start Terminal',\n",
       " 'End Date',\n",
       " 'End Station',\n",
       " 'End Terminal',\n",
       " 'Bike #',\n",
       " 'Subscriber Type',\n",
       " 'Zip Code']"
      ]
     },
     "execution_count": 4,
     "metadata": {},
     "output_type": "execute_result"
    }
   ],
   "source": [
    "df.columns"
   ]
  },
  {
   "cell_type": "code",
   "execution_count": 5,
   "id": "8e231852-62d5-46fb-b3ae-0e12e08ed60b",
   "metadata": {},
   "outputs": [],
   "source": [
    "from pyspark.sql.functions import col"
   ]
  },
  {
   "cell_type": "code",
   "execution_count": 9,
   "id": "d75ac0fd-1aaa-464c-8d3f-15fd88e1688d",
   "metadata": {},
   "outputs": [
    {
     "data": {
      "text/plain": [
       "10071"
      ]
     },
     "execution_count": 9,
     "metadata": {},
     "output_type": "execute_result"
    }
   ],
   "source": [
    "df.filter(\n",
    "    col(\"Start Station\").isin(\n",
    "        wf.reload().bikes.start_stations))\\\n",
    "  .count()"
   ]
  },
  {
   "cell_type": "code",
   "execution_count": null,
   "id": "f5d88ee8-1bb8-46b7-b298-3c532f06c30d",
   "metadata": {},
   "outputs": [],
   "source": []
  }
 ],
 "metadata": {
  "kernelspec": {
   "display_name": "Python 3 (ipykernel)",
   "language": "python",
   "name": "python3"
  },
  "language_info": {
   "codemirror_mode": {
    "name": "ipython",
    "version": 3
   },
   "file_extension": ".py",
   "mimetype": "text/x-python",
   "name": "python",
   "nbconvert_exporter": "python",
   "pygments_lexer": "ipython3",
   "version": "3.11.6"
  }
 },
 "nbformat": 4,
 "nbformat_minor": 5
}

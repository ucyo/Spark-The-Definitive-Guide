{
 "cells": [
  {
   "cell_type": "code",
   "execution_count": 1,
   "id": "ded8cba8-f74c-4c22-9ad4-96126f9f92b6",
   "metadata": {},
   "outputs": [],
   "source": [
    "from load_dataset import load_dataset, datasets"
   ]
  },
  {
   "cell_type": "code",
   "execution_count": 2,
   "id": "85f81366-b811-4514-94ff-60df9ac4d800",
   "metadata": {},
   "outputs": [
    {
     "name": "stdout",
     "output_type": "stream",
     "text": [
      "dict_keys(['flight_data', 'retail_data', 'bike_stations', 'bike_trips'])\n"
     ]
    }
   ],
   "source": [
    "print(datasets.keys())\n",
    "data = 'bike_trips'"
   ]
  },
  {
   "cell_type": "code",
   "execution_count": 3,
   "id": "5e2a93c4-9ed6-49a7-99c0-9c26a7a2987d",
   "metadata": {},
   "outputs": [
    {
     "data": {
      "text/plain": [
       "['Trip ID',\n",
       " 'Duration',\n",
       " 'Start Date',\n",
       " 'Start Station',\n",
       " 'Start Terminal',\n",
       " 'End Date',\n",
       " 'End Station',\n",
       " 'End Terminal',\n",
       " 'Bike #',\n",
       " 'Subscriber Type',\n",
       " 'Zip Code']"
      ]
     },
     "execution_count": 3,
     "metadata": {},
     "output_type": "execute_result"
    }
   ],
   "source": [
    "df = load_dataset(data)\n",
    "df.columns"
   ]
  },
  {
   "cell_type": "code",
   "execution_count": 4,
   "id": "aeb29540-a652-420d-a849-096c72549146",
   "metadata": {},
   "outputs": [
    {
     "data": {
      "text/plain": [
       "354152"
      ]
     },
     "execution_count": 4,
     "metadata": {},
     "output_type": "execute_result"
    }
   ],
   "source": [
    "df.count()"
   ]
  },
  {
   "cell_type": "markdown",
   "id": "6f711fc4-7b02-4d8f-ad29-49f0e7e6f74c",
   "metadata": {},
   "source": [
    "## Filter based on choices in column x"
   ]
  },
  {
   "cell_type": "code",
   "execution_count": 5,
   "id": "b99a783d-159c-454f-ae1a-bffc97704dac",
   "metadata": {},
   "outputs": [],
   "source": [
    "from pyspark.sql.functions import col"
   ]
  },
  {
   "cell_type": "code",
   "execution_count": 6,
   "id": "69b03795-00d4-43d2-951b-db2b72d3febd",
   "metadata": {},
   "outputs": [
    {
     "data": {
      "text/plain": [
       "[Row(Start Station='2nd at Folsom'),\n",
       " Row(Start Station='California Ave Caltrain Station'),\n",
       " Row(Start Station='Powell at Post (Union Square)'),\n",
       " Row(Start Station='Golden Gate at Polk'),\n",
       " Row(Start Station='Yerba Buena Center of the Arts (3rd @ Howard)')]"
      ]
     },
     "execution_count": 6,
     "metadata": {},
     "output_type": "execute_result"
    }
   ],
   "source": [
    "df.select(\"Start Station\").distinct().take(5)"
   ]
  },
  {
   "cell_type": "code",
   "execution_count": 7,
   "id": "9b0f99bf-2336-4623-acb4-bc2ab6fd72d0",
   "metadata": {},
   "outputs": [],
   "source": [
    "start_stations = [\"Golden Gate at Polk\", \"Powell at Post (Union Square)\"]"
   ]
  },
  {
   "cell_type": "code",
   "execution_count": 8,
   "id": "4e8d0e1c-8f5d-47c6-84a8-8f83fce79596",
   "metadata": {},
   "outputs": [
    {
     "data": {
      "text/plain": [
       "10071"
      ]
     },
     "execution_count": 8,
     "metadata": {},
     "output_type": "execute_result"
    }
   ],
   "source": [
    "df.filter(col(\"Start Station\")\\\n",
    "  .isin(start_stations))\\\n",
    "  .count()"
   ]
  },
  {
   "cell_type": "code",
   "execution_count": 9,
   "id": "50260727-ccdb-498a-9bb2-778beaa7c99b",
   "metadata": {},
   "outputs": [
    {
     "data": {
      "text/plain": [
       "3646"
      ]
     },
     "execution_count": 9,
     "metadata": {},
     "output_type": "execute_result"
    }
   ],
   "source": [
    "df.filter(col(\"Start Station\")\\\n",
    "  .isin(start_stations[:1]))\\\n",
    "  .count()"
   ]
  },
  {
   "cell_type": "markdown",
   "id": "f3f46cf2-ef59-4255-86af-9617c640af58",
   "metadata": {},
   "source": [
    "## Sample"
   ]
  },
  {
   "cell_type": "code",
   "execution_count": 10,
   "id": "36a7f511-9619-4f74-8fee-0e60eb137dec",
   "metadata": {},
   "outputs": [],
   "source": [
    "fraction = 0.1\n",
    "seed = None\n",
    "withReplacement = False"
   ]
  },
  {
   "cell_type": "code",
   "execution_count": 11,
   "id": "517012e6-11d3-4672-bc0b-6b628bf8ebeb",
   "metadata": {},
   "outputs": [
    {
     "data": {
      "text/plain": [
       "35403"
      ]
     },
     "execution_count": 11,
     "metadata": {},
     "output_type": "execute_result"
    }
   ],
   "source": [
    "df.sample(withReplacement=withReplacement, fraction=fraction, seed=seed).count()"
   ]
  }
 ],
 "metadata": {
  "kernelspec": {
   "display_name": "Python 3 (ipykernel)",
   "language": "python",
   "name": "python3"
  },
  "language_info": {
   "codemirror_mode": {
    "name": "ipython",
    "version": 3
   },
   "file_extension": ".py",
   "mimetype": "text/x-python",
   "name": "python",
   "nbconvert_exporter": "python",
   "pygments_lexer": "ipython3",
   "version": "3.11.6"
  }
 },
 "nbformat": 4,
 "nbformat_minor": 5
}
